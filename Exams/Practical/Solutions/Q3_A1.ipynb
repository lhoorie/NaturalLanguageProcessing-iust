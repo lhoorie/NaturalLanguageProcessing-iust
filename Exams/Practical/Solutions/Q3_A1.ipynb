{
  "cells": [
    {
      "cell_type": "code",
      "execution_count": 1,
      "metadata": {
        "id": "dkSKfF3szkCF",
        "colab": {
          "base_uri": "https://localhost:8080/"
        },
        "outputId": "7cbfaf7c-c60a-4580-df81-b08c48e368e2"
      },
      "outputs": [
        {
          "output_type": "stream",
          "name": "stdout",
          "text": [
            "[================================================--] 97.6% 246.0/252.1MB downloaded\n"
          ]
        }
      ],
      "source": [
        "import gensim.downloader as api\n",
        "wv_from_bin = api.load(\"glove-wiki-gigaword-200\")"
      ]
    },
    {
      "cell_type": "markdown",
      "metadata": {
        "id": "juRI9id25xP5"
      },
      "source": [
        "### <font color=\"red\"> Using analogies, go from 'hospital' to 'ambulance' </font>"
      ]
    },
    {
      "cell_type": "markdown",
      "metadata": {
        "id": "sCqQv-G-6OpH"
      },
      "source": [
        "#### Hint: King - Man + Woman = Queen"
      ]
    },
    {
      "cell_type": "code",
      "execution_count": 3,
      "metadata": {
        "id": "kx2za4QrzyBW",
        "colab": {
          "base_uri": "https://localhost:8080/"
        },
        "outputId": "4a9e381e-ea37-4cd0-ca79-4482b0788be3"
      },
      "outputs": [
        {
          "output_type": "execute_result",
          "data": {
            "text/plain": [
              "0.40918511152267456"
            ]
          },
          "metadata": {},
          "execution_count": 3
        }
      ],
      "source": [
        "w1 = \"hospital\"\n",
        "w2 = \"ambulance\"\n",
        "w1_w2_dist = wv_from_bin.distance(w1, w2)\n",
        "w1_w2_dist"
      ]
    },
    {
      "cell_type": "code",
      "source": [
        "x, y, a = \"hospital\", \"ambulance\", \"office\"\n",
        "wv_from_bin.most_similar(positive=[a, y], negative=[x])"
      ],
      "metadata": {
        "colab": {
          "base_uri": "https://localhost:8080/"
        },
        "id": "jumslVOth3GT",
        "outputId": "eb298fa4-61fd-4bca-e9cc-ee36e2d02539"
      },
      "execution_count": 7,
      "outputs": [
        {
          "output_type": "execute_result",
          "data": {
            "text/plain": [
              "[('service', 0.4880405366420746),\n",
              " ('offices', 0.48114848136901855),\n",
              " ('vehicle', 0.45818862318992615),\n",
              " ('limousine', 0.4443521797657013),\n",
              " ('agency', 0.4412493407726288),\n",
              " ('authority', 0.4407859146595001),\n",
              " ('headquarters', 0.43927207589149475),\n",
              " ('officers', 0.4314735531806946),\n",
              " ('marshals', 0.4309384524822235),\n",
              " ('agencies', 0.430912047624588)]"
            ]
          },
          "metadata": {},
          "execution_count": 7
        }
      ]
    },
    {
      "cell_type": "markdown",
      "metadata": {
        "id": "7ukjHwjI6ZbJ"
      },
      "source": [
        "### <font color=\"red\"> Using analogies, find some gender biases learned by model from corpus regarding 'toys'</font>"
      ]
    },
    {
      "cell_type": "markdown",
      "metadata": {
        "id": "mE2NIj8ycz7x"
      },
      "source": [
        "#### Hint: Which toys assigned to girls and which toys assigned to boys?"
      ]
    },
    {
      "cell_type": "code",
      "execution_count": 25,
      "metadata": {
        "id": "spnOqmU34GRA",
        "colab": {
          "base_uri": "https://localhost:8080/"
        },
        "outputId": "98b72ce3-bf68-4104-8b0a-18b964c425b4"
      },
      "outputs": [
        {
          "output_type": "execute_result",
          "data": {
            "text/plain": [
              "[('robots', 0.726597785949707),\n",
              " ('robotic', 0.6445916295051575),\n",
              " ('humanoid', 0.5588845014572144),\n",
              " ('alien', 0.48343202471733093),\n",
              " ('doll', 0.4769623875617981),\n",
              " ('creature', 0.459659218788147),\n",
              " ('spaceship', 0.44741952419281006),\n",
              " ('spacecraft', 0.44159600138664246),\n",
              " ('asimo', 0.4412001073360443),\n",
              " ('mecha', 0.4402640759944916)]"
            ]
          },
          "metadata": {},
          "execution_count": 25
        }
      ],
      "source": [
        "x, y, a = \"boy\", \"robot\", \"girl\"\n",
        "wv_from_bin.most_similar(positive=[a, y], negative=[x])"
      ]
    },
    {
      "cell_type": "code",
      "source": [
        "x, y, a = \"girl\", \"boy\", \"doll\"\n",
        "wv_from_bin.most_similar(positive=[a, y], negative=[x])"
      ],
      "metadata": {
        "colab": {
          "base_uri": "https://localhost:8080/"
        },
        "id": "XbwT_prpkqOh",
        "outputId": "1c6bafb4-392b-458a-8566-929f330cdd0a"
      },
      "execution_count": 36,
      "outputs": [
        {
          "output_type": "execute_result",
          "data": {
            "text/plain": [
              "[('dolls', 0.7077199220657349),\n",
              " ('barbie', 0.5953953266143799),\n",
              " ('toy', 0.5899488925933838),\n",
              " ('bobblehead', 0.5449831485748291),\n",
              " ('toys', 0.509314239025116),\n",
              " ('robot', 0.4894483983516693),\n",
              " ('rag', 0.4886503517627716),\n",
              " ('miniature', 0.46211326122283936),\n",
              " ('poster', 0.46027034521102905),\n",
              " ('elmo', 0.45855021476745605)]"
            ]
          },
          "metadata": {},
          "execution_count": 36
        }
      ]
    }
  ],
  "metadata": {
    "colab": {
      "provenance": []
    },
    "kernelspec": {
      "display_name": "Python 3",
      "name": "python3"
    },
    "language_info": {
      "name": "python",
      "version": "3.10.6"
    }
  },
  "nbformat": 4,
  "nbformat_minor": 0
}